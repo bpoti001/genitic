{
 "cells": [
  {
   "cell_type": "code",
   "execution_count": 39,
   "metadata": {
    "collapsed": true
   },
   "outputs": [],
   "source": [
    "geneSet = \" abcdefghijklmnopqrstuvwxyzABCDEFGHIJKLMNOPQRSTUVWXYZ!.\"\n",
    "target = \"bhavyateja potineni\"\n"
   ]
  },
  {
   "cell_type": "code",
   "execution_count": 40,
   "metadata": {
    "collapsed": true
   },
   "outputs": [],
   "source": [
    "import random\n",
    "def generate_parent(length):\n",
    "    genes = []\n",
    "    while len(genes) < length:\n",
    "        sampleSize = min(length - len(genes), len(geneSet))\n",
    "        #print (sampleSize)\n",
    "        genes.extend(random.sample(geneSet, sampleSize)) #random sample takes \"samplesize\" elements from \"geneset\" with out replacing. \n",
    "        #print (genes)\n",
    "    return ''.join(genes)\n"
   ]
  },
  {
   "cell_type": "code",
   "execution_count": 41,
   "metadata": {
    "collapsed": true
   },
   "outputs": [],
   "source": [
    "def get_fitness(guess):\n",
    "    return sum(1 for expected, actual in zip(target, guess) if expected == actual) #Fitness = number of letters matched with guess and traget\n"
   ]
  },
  {
   "cell_type": "code",
   "execution_count": 42,
   "metadata": {
    "collapsed": false
   },
   "outputs": [],
   "source": [
    "def mutate(parent):\n",
    "    index = random.randrange(0, len(parent)) # TAKE A RANDOM INDEX FROM PARENT\n",
    "    childGenes = list(parent) #COPY PARENT TO CHILD GENE\n",
    "    newGene, alternate = random.sample(geneSet, 2) #TAKE TWO RANDOM NEW DATAPOINTS FROM DATA SPACE\n",
    "    childGenes[index] = alternate if newGene == childGenes[index] else newGene #UPDATE CHILD GENE WITH EITHER OF THE RANDOM DATAPOINTS \n",
    "    return ''.join(childGenes) #RETURN CHILD"
   ]
  },
  {
   "cell_type": "code",
   "execution_count": 43,
   "metadata": {
    "collapsed": true
   },
   "outputs": [],
   "source": [
    "import datetime\n",
    "def display(guess):\n",
    "    timeDiff = datetime.datetime.now() - startTime\n",
    "    fitness = get_fitness(guess)\n",
    "    print(\"{0}\\t{1}\\t{2}\".format(guess, fitness, str(timeDiff))) "
   ]
  },
  {
   "cell_type": "code",
   "execution_count": 44,
   "metadata": {
    "collapsed": false
   },
   "outputs": [
    {
     "name": "stdout",
     "output_type": "stream",
     "text": [
      "pQmInKHghBAlyozsZw \t0\t0:00:00\n"
     ]
    }
   ],
   "source": [
    "random.seed()\n",
    "startTime = datetime.datetime.now()\n",
    "bestParent = generate_parent(len(target))\n",
    "bestFitness = get_fitness(bestParent)\n",
    "display(bestParent)\n"
   ]
  },
  {
   "cell_type": "code",
   "execution_count": 45,
   "metadata": {
    "collapsed": false
   },
   "outputs": [
    {
     "name": "stdout",
     "output_type": "stream",
     "text": [
      "pQmInKHehBAlyozsZw \t1\t0:00:00.545450\n",
      "pQmInKHehaAlyozsZw \t2\t0:00:00.550468\n",
      "pQmInKtehaAlyozsZw \t3\t0:00:00.552456\n",
      "pQaInKtehaAlyozsZw \t4\t0:00:00.552456\n",
      "pQavnKtehaAlyozsZw \t5\t0:00:00.553456\n",
      "pQavnKtehaAlyoznZw \t6\t0:00:00.556459\n",
      "pQavnKtehaAlyoinZw \t7\t0:00:00.558461\n",
      "pQavnKtehaAlytinZw \t8\t0:00:00.558461\n",
      "pQavnKtehaAlytinZn \t9\t0:00:00.562472\n",
      "pQavnKtehaAlytinZni\t10\t0:00:00.563461\n",
      "pQavnKtehaApytinZni\t11\t0:00:00.567465\n",
      "pQavnKtehaApotinZni\t12\t0:00:00.571485\n",
      "pQavnKtehaApotineni\t13\t0:00:00.572468\n",
      "pQavyKtehaApotineni\t14\t0:00:00.573486\n",
      "phavyKtehaApotineni\t15\t0:00:00.574487\n",
      "bhavyKtehaApotineni\t16\t0:00:00.574487\n",
      "bhavyKteha potineni\t17\t0:00:00.576469\n",
      "bhavyateha potineni\t18\t0:00:00.577470\n",
      "bhavyateja potineni\t19\t0:00:00.586476\n",
      "break point\n"
     ]
    }
   ],
   "source": [
    "while True:\n",
    "    child = mutate(bestParent)\n",
    "    childFitness = get_fitness(child)\n",
    "    if bestFitness >= childFitness:\n",
    "        continue\n",
    "    display(child) #display only child which has more fitness than parent\n",
    "    if childFitness >= len(target):# if fitnes = 12 len(target)\n",
    "        print(\"break point\")\n",
    "        break\n",
    "    bestFitness = childFitness\n",
    "    bestParent = child\n"
   ]
  },
  {
   "cell_type": "code",
   "execution_count": 46,
   "metadata": {
    "collapsed": false
   },
   "outputs": [
    {
     "data": {
      "text/plain": [
       "18"
      ]
     },
     "execution_count": 46,
     "metadata": {},
     "output_type": "execute_result"
    }
   ],
   "source": [
    "bestFitness"
   ]
  },
  {
   "cell_type": "code",
   "execution_count": 47,
   "metadata": {
    "collapsed": false
   },
   "outputs": [
    {
     "data": {
      "text/plain": [
       "'bhavyateha potineni'"
      ]
     },
     "execution_count": 47,
     "metadata": {},
     "output_type": "execute_result"
    }
   ],
   "source": [
    "bestParent"
   ]
  },
  {
   "cell_type": "code",
   "execution_count": null,
   "metadata": {
    "collapsed": true
   },
   "outputs": [],
   "source": []
  }
 ],
 "metadata": {
  "anaconda-cloud": {},
  "kernelspec": {
   "display_name": "Python [conda root]",
   "language": "python",
   "name": "conda-root-py"
  },
  "language_info": {
   "codemirror_mode": {
    "name": "ipython",
    "version": 3
   },
   "file_extension": ".py",
   "mimetype": "text/x-python",
   "name": "python",
   "nbconvert_exporter": "python",
   "pygments_lexer": "ipython3",
   "version": "3.5.2"
  }
 },
 "nbformat": 4,
 "nbformat_minor": 1
}
